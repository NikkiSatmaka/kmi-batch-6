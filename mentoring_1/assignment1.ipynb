{
 "cells": [
  {
   "cell_type": "markdown",
   "metadata": {},
   "source": [
    "# Assignment 1"
   ]
  },
  {
   "cell_type": "markdown",
   "metadata": {},
   "source": [
    "Nama : Nikki\n",
    "Mentor Name : Nikki Satmaka"
   ]
  },
  {
   "cell_type": "code",
   "execution_count": 1,
   "metadata": {},
   "outputs": [],
   "source": [
    "# Jalankan line ini jika pada PC mu belum terinstall pandas\n",
    "# pip install pandas"
   ]
  },
  {
   "cell_type": "code",
   "execution_count": 2,
   "metadata": {},
   "outputs": [],
   "source": [
    "import pandas as pd"
   ]
  },
  {
   "cell_type": "markdown",
   "metadata": {},
   "source": [
    "## Soal 1 : Triangle Pattern Programs in Python"
   ]
  },
  {
   "cell_type": "markdown",
   "metadata": {},
   "source": [
    "Kerjakan pada fungsi segitiga dibawah ini untuk membuat pola output sebagai berikut \n",
    "\n",
    "CASE 1\n",
    "\n",
    "INPUT    \n",
    "panjang = 3      \n",
    "sudutSegitiga = 'kiri'   \n",
    "\n",
    "OUPUT   \n",
    "```\n",
    "*  \n",
    "** \n",
    "***\n",
    "```\n",
    "\n",
    "\n",
    "CASE 2 \n",
    "\n",
    "INPUT    \n",
    "panjang = 4     \n",
    "sudutSegitiga = 'kanan'   \n",
    "\n",
    "OUPUT   \n",
    "```\n",
    "   *\n",
    "  **\n",
    " ***\n",
    "****\n",
    "```"
   ]
  },
  {
   "cell_type": "code",
   "execution_count": 3,
   "metadata": {},
   "outputs": [
    {
     "name": "stdout",
     "output_type": "stream",
     "text": [
      "*\n",
      "**\n",
      "***\n",
      "3 kiri\n",
      "   *\n",
      "  **\n",
      " ***\n",
      "****\n",
      "4 kanan\n"
     ]
    }
   ],
   "source": [
    "def segitiga(panjang, sudutSegitiga):\n",
    "    # silahkan koding disini\n",
    "    # ----\n",
    "    if sudutSegitiga == \"kiri\":\n",
    "        for i in range(panjang):\n",
    "            print((i + 1) * \"*\")\n",
    "    else:\n",
    "        # for i in range(panjang):\n",
    "        #     bintang = (i + 1) * \"*\"\n",
    "        #     print(f\"{bintang:>{panjang}}\")\n",
    "        for i in range(panjang):\n",
    "            space = (panjang - i - 1) * \" \"\n",
    "            bintang = (i + 1) * \"*\"\n",
    "            print(f\"{space}{bintang}\")\n",
    "\n",
    "    print(panjang, sudutSegitiga)\n",
    "\n",
    "\n",
    "# Case 1\n",
    "segitiga(3, \"kiri\")\n",
    "\n",
    "# Case 2\n",
    "# Kerjakan setelah berhasil membuat case 1\n",
    "segitiga(4, \"kanan\")"
   ]
  },
  {
   "cell_type": "markdown",
   "metadata": {},
   "source": [
    "## Soal 2 : Filter Data and Save to CSV File"
   ]
  },
  {
   "cell_type": "markdown",
   "metadata": {},
   "source": [
    "Kerjakan fungsi filterCharacters dengan menghasilkan data dengan status True pada csv (result.csv).   \n",
    "\n",
    "\n",
    "Note kamu cukup kumpulkan file ipynb ini saja."
   ]
  },
  {
   "cell_type": "code",
   "execution_count": 4,
   "metadata": {},
   "outputs": [
    {
     "data": {
      "text/html": [
       "<div>\n",
       "<style scoped>\n",
       "    .dataframe tbody tr th:only-of-type {\n",
       "        vertical-align: middle;\n",
       "    }\n",
       "\n",
       "    .dataframe tbody tr th {\n",
       "        vertical-align: top;\n",
       "    }\n",
       "\n",
       "    .dataframe thead th {\n",
       "        text-align: right;\n",
       "    }\n",
       "</style>\n",
       "<table border=\"1\" class=\"dataframe\">\n",
       "  <thead>\n",
       "    <tr style=\"text-align: right;\">\n",
       "      <th></th>\n",
       "      <th>name</th>\n",
       "      <th>age</th>\n",
       "      <th>status</th>\n",
       "    </tr>\n",
       "  </thead>\n",
       "  <tbody>\n",
       "    <tr>\n",
       "      <th>0</th>\n",
       "      <td>Luffy</td>\n",
       "      <td>19</td>\n",
       "      <td>True</td>\n",
       "    </tr>\n",
       "    <tr>\n",
       "      <th>4</th>\n",
       "      <td>Chopper</td>\n",
       "      <td>19</td>\n",
       "      <td>True</td>\n",
       "    </tr>\n",
       "    <tr>\n",
       "      <th>6</th>\n",
       "      <td>Robin</td>\n",
       "      <td>30</td>\n",
       "      <td>True</td>\n",
       "    </tr>\n",
       "  </tbody>\n",
       "</table>\n",
       "</div>"
      ],
      "text/plain": [
       "      name  age  status\n",
       "0    Luffy   19    True\n",
       "4  Chopper   19    True\n",
       "6    Robin   30    True"
      ]
     },
     "execution_count": 4,
     "metadata": {},
     "output_type": "execute_result"
    }
   ],
   "source": [
    "def filterCharacters():\n",
    "    data = [\n",
    "        {\"name\": \"Luffy\", \"age\": 19, \"status\": True},\n",
    "        {\"name\": \"Nami\", \"age\": 20, \"status\": False},\n",
    "        {\"name\": \"Usopp\", \"age\": 19, \"status\": False},\n",
    "        {\"name\": \"Zoro\", \"age\": 21, \"status\": False},\n",
    "        {\"name\": \"Chopper\", \"age\": 19, \"status\": True},\n",
    "        {\"name\": \"Sanji\", \"age\": 21, \"status\": False},\n",
    "        {\"name\": \"Robin\", \"age\": 30, \"status\": True},\n",
    "    ]\n",
    "    # silahkan filter data yang memiliki status True\n",
    "    # dengan menggunakan looping / lambda function (dibebaskan)\n",
    "    df = pd.DataFrame(data)\n",
    "    df = df[df[\"status\"]]\n",
    "    df.to_csv(\"result.csv\")\n",
    "\n",
    "    return df\n",
    "\n",
    "    # setelah berhasil filter simpan datanya menjadi csv, simpan ke file result.csv\n",
    "\n",
    "\n",
    "filterCharacters()"
   ]
  },
  {
   "cell_type": "code",
   "execution_count": 5,
   "metadata": {},
   "outputs": [
    {
     "name": "stdout",
     "output_type": "stream",
     "text": [
      "Hello, World!\n"
     ]
    }
   ],
   "source": [
    "# Membaca isi file\n",
    "with open(\"data.txt\", \"r\") as file:\n",
    "    data = file.read()\n",
    "    print(data)\n",
    "\n",
    "# Menulis ke dalam file\n",
    "with open(\"data.txt\", \"w\") as file:\n",
    "    file.write(\"Hello, World!\")"
   ]
  },
  {
   "cell_type": "code",
   "execution_count": 6,
   "metadata": {},
   "outputs": [
    {
     "name": "stdout",
     "output_type": "stream",
     "text": [
      "    Nama  Usia\n",
      "0   John    28\n",
      "1   Anna    34\n",
      "2  Peter    29\n",
      "3  Linda    42\n",
      "Data telah disimpan ke dalam file CSV.\n"
     ]
    }
   ],
   "source": [
    "# Membaca file CSV ke dalam DataFrame\n",
    "## GA TEPAT\n",
    "# with pd.read_csv(\"data.csv\") as df:\n",
    "#     print(df.head())\n",
    "\n",
    "## TEPAT\n",
    "df = pd.read_csv(\"data.csv\")\n",
    "print(df.head())\n",
    "\n",
    "# Menulis DataFrame ke dalam file CSV\n",
    "data = {\"Nama\": [\"John\", \"Anna\", \"Peter\", \"Linda\"], \"Usia\": [28, 34, 29, 42]}\n",
    "df = pd.DataFrame(data)\n",
    "df.to_csv(\"data.csv\", index=False)\n",
    "print(\"Data telah disimpan ke dalam file CSV.\")"
   ]
  }
 ],
 "metadata": {
  "kernelspec": {
   "display_name": "Python 3",
   "language": "python",
   "name": "python3"
  },
  "language_info": {
   "codemirror_mode": {
    "name": "ipython",
    "version": 3
   },
   "file_extension": ".py",
   "mimetype": "text/x-python",
   "name": "python",
   "nbconvert_exporter": "python",
   "pygments_lexer": "ipython3",
   "version": "3.12.2"
  }
 },
 "nbformat": 4,
 "nbformat_minor": 2
}
